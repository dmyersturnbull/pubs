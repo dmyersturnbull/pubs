{
 "cells": [
  {
   "cell_type": "code",
   "execution_count": 3,
   "metadata": {
    "collapsed": true
   },
   "outputs": [],
   "source": [
    "import pandas\n",
    "import math"
   ]
  },
  {
   "cell_type": "code",
   "execution_count": 165,
   "metadata": {
    "collapsed": false
   },
   "outputs": [
    {
     "ename": "TypeError",
     "evalue": "<lambda>() takes 0 positional arguments but 1 was given",
     "output_type": "error",
     "traceback": [
      "\u001b[0;31m---------------------------------------------------------------------------\u001b[0m",
      "\u001b[0;31mTypeError\u001b[0m                                 Traceback (most recent call last)",
      "\u001b[0;32m<ipython-input-165-cffa6aedb07e>\u001b[0m in \u001b[0;36m<module>\u001b[0;34m()\u001b[0m\n\u001b[1;32m     83\u001b[0m     \u001b[0;32mreturn\u001b[0m \u001b[0mdf\u001b[0m\u001b[0;34m\u001b[0m\u001b[0m\n\u001b[1;32m     84\u001b[0m \u001b[0;34m\u001b[0m\u001b[0m\n\u001b[0;32m---> 85\u001b[0;31m \u001b[0mdf\u001b[0m \u001b[0;34m=\u001b[0m \u001b[0mparse_evidence\u001b[0m\u001b[0;34m(\u001b[0m\u001b[0;34m'evidence.txt'\u001b[0m\u001b[0;34m)\u001b[0m\u001b[0;34m\u001b[0m\u001b[0m\n\u001b[0m\u001b[1;32m     86\u001b[0m \u001b[0mprint\u001b[0m\u001b[0;34m(\u001b[0m\u001b[0mdf\u001b[0m\u001b[0;34m.\u001b[0m\u001b[0mdtypes\u001b[0m\u001b[0;34m)\u001b[0m\u001b[0;34m\u001b[0m\u001b[0m\n\u001b[1;32m     87\u001b[0m \u001b[0mprint\u001b[0m\u001b[0;34m(\u001b[0m\u001b[0mdf\u001b[0m\u001b[0;34m.\u001b[0m\u001b[0mloc\u001b[0m\u001b[0;34m[\u001b[0m\u001b[0;36m4\u001b[0m\u001b[0;34m]\u001b[0m\u001b[0;34m)\u001b[0m \u001b[0;31m# for example\u001b[0m\u001b[0;34m\u001b[0m\u001b[0m\n",
      "\u001b[0;32m<ipython-input-165-cffa6aedb07e>\u001b[0m in \u001b[0;36mparse_evidence\u001b[0;34m(file)\u001b[0m\n\u001b[1;32m     72\u001b[0m             \u001b[0;34m'Phospho (STY) Score Diffs'\u001b[0m\u001b[0;34m,\u001b[0m\u001b[0;34m\u001b[0m\u001b[0m\n\u001b[1;32m     73\u001b[0m             \u001b[0;34m'Phospho (STY) Probabilities'\u001b[0m\u001b[0;34m,\u001b[0m\u001b[0;34m\u001b[0m\u001b[0m\n\u001b[0;32m---> 74\u001b[0;31m             \u001b[0;34m'Oxidation (M) Probabilities'\u001b[0m\u001b[0;34m\u001b[0m\u001b[0m\n\u001b[0m\u001b[1;32m     75\u001b[0m     ])\n\u001b[1;32m     76\u001b[0m \u001b[0;34m\u001b[0m\u001b[0m\n",
      "\u001b[0;32m<ipython-input-165-cffa6aedb07e>\u001b[0m in \u001b[0;36msiteify\u001b[0;34m(cols)\u001b[0m\n\u001b[1;32m     50\u001b[0m     \u001b[0;32mdef\u001b[0m \u001b[0msiteify\u001b[0m\u001b[0;34m(\u001b[0m\u001b[0mcols\u001b[0m\u001b[0;34m)\u001b[0m\u001b[0;34m:\u001b[0m\u001b[0;34m\u001b[0m\u001b[0m\n\u001b[1;32m     51\u001b[0m         \u001b[0;34m\"\"\"Transform column type to SiteString\"\"\"\u001b[0m\u001b[0;34m\u001b[0m\u001b[0m\n\u001b[0;32m---> 52\u001b[0;31m         \u001b[0mconvert\u001b[0m\u001b[0;34m(\u001b[0m\u001b[0mcols\u001b[0m\u001b[0;34m,\u001b[0m \u001b[0;32mlambda\u001b[0m\u001b[0;34m:\u001b[0m \u001b[0mSiteString\u001b[0m\u001b[0;34m(\u001b[0m\u001b[0mstr\u001b[0m\u001b[0;34m(\u001b[0m\u001b[0ms\u001b[0m\u001b[0;34m)\u001b[0m\u001b[0;34m)\u001b[0m\u001b[0;34m)\u001b[0m\u001b[0;34m\u001b[0m\u001b[0m\n\u001b[0m\u001b[1;32m     53\u001b[0m \u001b[0;34m\u001b[0m\u001b[0m\n\u001b[1;32m     54\u001b[0m \u001b[0;34m\u001b[0m\u001b[0m\n",
      "\u001b[0;32m<ipython-input-165-cffa6aedb07e>\u001b[0m in \u001b[0;36mconvert\u001b[0;34m(cols, fn)\u001b[0m\n\u001b[1;32m     36\u001b[0m         \u001b[0;32mfor\u001b[0m \u001b[0mcol\u001b[0m \u001b[0;32min\u001b[0m \u001b[0mcols\u001b[0m\u001b[0;34m:\u001b[0m\u001b[0;34m\u001b[0m\u001b[0m\n\u001b[1;32m     37\u001b[0m             \u001b[0;32mtry\u001b[0m\u001b[0;34m:\u001b[0m\u001b[0;34m\u001b[0m\u001b[0m\n\u001b[0;32m---> 38\u001b[0;31m                 \u001b[0mdf\u001b[0m\u001b[0;34m[\u001b[0m\u001b[0mcol\u001b[0m\u001b[0;34m]\u001b[0m \u001b[0;34m=\u001b[0m \u001b[0;34m[\u001b[0m\u001b[0mfn\u001b[0m\u001b[0;34m(\u001b[0m\u001b[0ms\u001b[0m\u001b[0;34m)\u001b[0m \u001b[0;32mfor\u001b[0m \u001b[0ms\u001b[0m \u001b[0;32min\u001b[0m \u001b[0mdf\u001b[0m\u001b[0;34m[\u001b[0m\u001b[0mcol\u001b[0m\u001b[0;34m]\u001b[0m\u001b[0;34m]\u001b[0m\u001b[0;34m\u001b[0m\u001b[0m\n\u001b[0m\u001b[1;32m     39\u001b[0m             \u001b[0;32mexcept\u001b[0m \u001b[0mValueError\u001b[0m \u001b[0;32mas\u001b[0m \u001b[0me\u001b[0m\u001b[0;34m:\u001b[0m\u001b[0;34m\u001b[0m\u001b[0m\n\u001b[1;32m     40\u001b[0m                 \u001b[0;32mraise\u001b[0m \u001b[0mValueError\u001b[0m\u001b[0;34m(\u001b[0m\u001b[0;34m\"Failed to convert column %s\"\u001b[0m \u001b[0;34m%\u001b[0m \u001b[0mcol\u001b[0m\u001b[0;34m)\u001b[0m \u001b[0;32mfrom\u001b[0m \u001b[0me\u001b[0m\u001b[0;34m\u001b[0m\u001b[0m\n",
      "\u001b[0;32m<ipython-input-165-cffa6aedb07e>\u001b[0m in \u001b[0;36m<listcomp>\u001b[0;34m(.0)\u001b[0m\n\u001b[1;32m     36\u001b[0m         \u001b[0;32mfor\u001b[0m \u001b[0mcol\u001b[0m \u001b[0;32min\u001b[0m \u001b[0mcols\u001b[0m\u001b[0;34m:\u001b[0m\u001b[0;34m\u001b[0m\u001b[0m\n\u001b[1;32m     37\u001b[0m             \u001b[0;32mtry\u001b[0m\u001b[0;34m:\u001b[0m\u001b[0;34m\u001b[0m\u001b[0m\n\u001b[0;32m---> 38\u001b[0;31m                 \u001b[0mdf\u001b[0m\u001b[0;34m[\u001b[0m\u001b[0mcol\u001b[0m\u001b[0;34m]\u001b[0m \u001b[0;34m=\u001b[0m \u001b[0;34m[\u001b[0m\u001b[0mfn\u001b[0m\u001b[0;34m(\u001b[0m\u001b[0ms\u001b[0m\u001b[0;34m)\u001b[0m \u001b[0;32mfor\u001b[0m \u001b[0ms\u001b[0m \u001b[0;32min\u001b[0m \u001b[0mdf\u001b[0m\u001b[0;34m[\u001b[0m\u001b[0mcol\u001b[0m\u001b[0;34m]\u001b[0m\u001b[0;34m]\u001b[0m\u001b[0;34m\u001b[0m\u001b[0m\n\u001b[0m\u001b[1;32m     39\u001b[0m             \u001b[0;32mexcept\u001b[0m \u001b[0mValueError\u001b[0m \u001b[0;32mas\u001b[0m \u001b[0me\u001b[0m\u001b[0;34m:\u001b[0m\u001b[0;34m\u001b[0m\u001b[0m\n\u001b[1;32m     40\u001b[0m                 \u001b[0;32mraise\u001b[0m \u001b[0mValueError\u001b[0m\u001b[0;34m(\u001b[0m\u001b[0;34m\"Failed to convert column %s\"\u001b[0m \u001b[0;34m%\u001b[0m \u001b[0mcol\u001b[0m\u001b[0;34m)\u001b[0m \u001b[0;32mfrom\u001b[0m \u001b[0me\u001b[0m\u001b[0;34m\u001b[0m\u001b[0m\n",
      "\u001b[0;31mTypeError\u001b[0m: <lambda>() takes 0 positional arguments but 1 was given"
     ]
    }
   ],
   "source": [
    "import re\n",
    "class SiteString:\n",
    "    \"\"\"\n",
    "    A peptide sequence with one or more amino acids mapped to a floating-point score\n",
    "    \"\"\"\n",
    "    \n",
    "    sequence = None\n",
    "    sites = None # Make a dict later\n",
    "    \n",
    "    def __init__(self, string):\n",
    "        \"\"\"\n",
    "        string: A string from the data file like 'AFVNHM(8.97)M(-8.97)SSHSNHPGKR'\n",
    "        \"\"\"\n",
    "        self.sites = {}\n",
    "        pattern = '\\\\((-?[\\\\d.]+)\\\\)'\n",
    "        offset = 0\n",
    "        for match in re.finditer(pattern, string):\n",
    "            self.sites[match.start() + offset] = float(match.group(1))\n",
    "            offset -= len(match.group(0))\n",
    "        self.sequence = re.sub(pattern, '', string)\n",
    "\n",
    "        \n",
    "# Test scored site parser\n",
    "import pytest\n",
    "test_sites = SiteString('AFVNHM(8.97)MM(-8.97)SSHSNH(1.0)PGKR')\n",
    "assert 'AFVNHMMMSSHSNHPGKR' == test_sites.sequence\n",
    "assert {6: 8.97, 8: -8.97, 14: 1.0} == test_sites.sites\n",
    "test_sites_2 = SiteString('')\n",
    "assert '' == test_sites_2.sequence\n",
    "assert {} == test_sites_2.sites\n",
    "\n",
    "\n",
    "def parse_evidence(file):\n",
    "    \n",
    "    def convert(cols, fn):\n",
    "        for col in cols:\n",
    "            try:\n",
    "                df[col] = [fn(s) for s in df[col]]\n",
    "            except ValueError as e:\n",
    "                raise ValueError(\"Failed to convert column %s\" % col) from e\n",
    "    \n",
    "    def split(cols, delim=';'):\n",
    "        \"\"\"Transform column type to list\"\"\"\n",
    "        convert(cols, lambda s: [st.strip() for st in str(s).split(delim)])\n",
    "    \n",
    "    def floatify(cols):\n",
    "        \"\"\"Transform column type to float\"\"\"\n",
    "        convert(cols, lambda: float(s))\n",
    "    \n",
    "    def siteify(cols):\n",
    "        \"\"\"Transform column type to SiteString\"\"\"\n",
    "        convert(cols, lambda: SiteString(str(s)))\n",
    "    \n",
    "    \n",
    "    df = pandas.read_table(file, header=0, index_col=0)\n",
    "\n",
    "    split([\n",
    "            'Protein Group IDs',\n",
    "            'MS/MS IDs',\n",
    "            'Oxidation (M) Site IDs',\n",
    "            'Phospho (STY) Site IDs',\n",
    "            'Modifications',\n",
    "            'Acetyl (Protein N-term)',\n",
    "            'Proteins',\n",
    "            'Leading Proteins',\n",
    "            'Gene Names',\n",
    "            'Protein Names'\n",
    "            ])\n",
    "    split(['Protein Descriptions'], delim='|')\n",
    "    siteify([\n",
    "            'Oxidation (M) Score Diffs',\n",
    "            'Phospho (STY) Score Diffs',\n",
    "            'Phospho (STY) Probabilities',\n",
    "            'Oxidation (M) Probabilities'\n",
    "    ])\n",
    "    \n",
    "    # Some contain \"Infinity\", which float() understands but Pandas doesn't\n",
    "    floatify(['PEP'])\n",
    "    \n",
    "    # Just use an empty list, not a list containing \"Unmodified\"\n",
    "    df['Modifications'] = [[] if lst == ['Unmodified'] else lst for lst in df['Modifications']]\n",
    "\n",
    "    return df\n",
    "    \n",
    "df = parse_evidence('evidence.txt')\n",
    "print(df.dtypes)\n",
    "print(df.loc[4]) # for example"
   ]
  },
  {
   "cell_type": "code",
   "execution_count": null,
   "metadata": {
    "collapsed": true
   },
   "outputs": [],
   "source": []
  }
 ],
 "metadata": {
  "kernelspec": {
   "display_name": "Python 3",
   "language": "python",
   "name": "python3"
  },
  "language_info": {
   "codemirror_mode": {
    "name": "ipython",
    "version": 3
   },
   "file_extension": ".py",
   "mimetype": "text/x-python",
   "name": "python",
   "nbconvert_exporter": "python",
   "pygments_lexer": "ipython3",
   "version": "3.4.3"
  }
 },
 "nbformat": 4,
 "nbformat_minor": 0
}
